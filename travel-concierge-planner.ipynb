{
 "cells": [
  {
   "cell_type": "code",
   "execution_count": 9,
   "metadata": {},
   "outputs": [],
   "source": [
    "from dotenv import load_dotenv\n",
    "from agents import Agent, Runner, trace, function_tool\n",
    "from openai.types.responses import ResponseTextDeltaEvent\n",
    "from typing import Dict\n",
    "import sendgrid\n",
    "import os\n",
    "import asyncio\n",
    "import base64\n",
    "from sendgrid import SendGridAPIClient\n",
    "from sendgrid.helpers.mail import Mail, Email, To, Content, Attachment, FileContent, FileName, FileType, Disposition\n",
    "\n"
   ]
  },
  {
   "cell_type": "code",
   "execution_count": 3,
   "metadata": {},
   "outputs": [
    {
     "data": {
      "text/plain": [
       "True"
      ]
     },
     "execution_count": 3,
     "metadata": {},
     "output_type": "execute_result"
    }
   ],
   "source": [
    "\n",
    "load_dotenv(override=True)\n"
   ]
  },
  {
   "cell_type": "code",
   "execution_count": 4,
   "metadata": {},
   "outputs": [],
   "source": [
    "attractions_planner_agent_instructions = \"\"\"\n",
    "You are a attractions planner. You are given a destination and need to plan all must-do things in that city.\n",
    "You should give only the list of attractions and not suggestions on Restaurants, Hotels, etc.\n",
    "Attractions should be something like historical places, museums, parks, etc.. This should not include any activities like hiking,skydiving, kayaking, sunset sails, snorkeling, etc.\n",
    "\"\"\"\n",
    "\n",
    "activity_planner_agent_instructions = \"\"\"\n",
    "You are a activity planner. You are given a destination \n",
    "You need to find all local best activities in that city with their popularity.\n",
    "Activities should be something to experience like skydiving, kayaking, sunset sails, snorkeling, etc.\n",
    "\"\"\"\n",
    "\n",
    "restaurant_planner_agent_instructions = \"\"\"\n",
    "You are a restaurant planner. You are given a destination and number of days to spend.\n",
    "You need to find all local best restaurants in that city with their ratings and reviews. \n",
    "You need to plan for 3 meals a day for the number of days you are staying.\n",
    "\"\"\"\n",
    "\n",
    "attractions_planner_agent = Agent(\n",
    "    name=\"Attractions Planner\",\n",
    "    instructions = attractions_planner_agent_instructions,\n",
    ")\n",
    "\n",
    "activity_planner_agent = Agent(\n",
    "    name=\"Activity Planner\",\n",
    "    instructions = activity_planner_agent_instructions,\n",
    ")\n",
    "\n",
    "restaurant_planner_agent = Agent(\n",
    "    name=\"Restaurant Planner\",\n",
    "    instructions = restaurant_planner_agent_instructions,\n",
    ")\n",
    "\n"
   ]
  },
  {
   "cell_type": "code",
   "execution_count": 5,
   "metadata": {},
   "outputs": [],
   "source": [
    "itenary_planner_agent_instructions = \"\"\"\n",
    "    You are given a list of attractions, activities and restaurants. \n",
    "    You need to pick best attractions, activities and restaurants out of the list to plan a trip to the destination.\n",
    "    You give a day by day plan of the trip with timings for various attractions and activities.\n",
    "    You'll also plan for appropriate schedules for 3 meals a day in nearby restaurants to the current schedule.\n",
    "\"\"\"\n",
    "\n",
    "itenary_planner_agent = Agent(\n",
    "    name=\"Itenary Planner\",\n",
    "    instructions=itenary_planner_agent_instructions,\n",
    ")"
   ]
  },
  {
   "cell_type": "code",
   "execution_count": 6,
   "metadata": {},
   "outputs": [],
   "source": [
    "calender_generator_agent_instructions = \"\"\"\n",
    "You are a calender generator. You are given a ordered list of attractions, activities and restaurants with appropriate days and timings.\n",
    "You need to generate a single ics file with all the events and their details.\n",
    "You need to include all the details like name, description, start and end time, location, etc.\n",
    "This ics file should be in a format that can be imported into any calendar app.\n",
    "\"\"\"\n",
    "\n",
    "calender_generator_agent = Agent(\n",
    "    name=\"Calender Generator\",\n",
    "    instructions = calender_generator_agent_instructions,\n",
    ")"
   ]
  },
  {
   "cell_type": "code",
   "execution_count": 7,
   "metadata": {},
   "outputs": [],
   "source": [
    "activity_planner_tool = activity_planner_agent.as_tool(tool_name=\"activity_planner_tool\", tool_description=\"Plan only activities for the given destination and number of days\")\n",
    "attractions_planner_tool = attractions_planner_agent.as_tool(tool_name=\"attractions_planner_tool\", tool_description=\"Plan only attractions for the given destination and number of days\")\n",
    "restaurant_planner_tool = restaurant_planner_agent.as_tool(tool_name=\"restaurant_planner_tool\", tool_description=\"Plan only restaurants for the given destination and number of days\")\n",
    "itenary_planner_tool = itenary_planner_agent.as_tool(tool_name=\"itenary_planner_tool\", tool_description=\"Plan a trip to the given destination and number of days by calling activity planner, attractions planner and restaurant planner tools\")\n",
    "calender_generator_tool = calender_generator_agent.as_tool(tool_name=\"calender_generator_tool\", tool_description=\"Generate a calender with all the events and their details\")\n"
   ]
  },
  {
   "cell_type": "code",
   "execution_count": 8,
   "metadata": {},
   "outputs": [],
   "source": [
    "\n",
    "subject_instructions = \"You can write a subject for a cold sales email. \\\n",
    "You are given a message and you need to write a subject for an email that is likely to get a response.\"\n",
    "\n",
    "html_instructions = \"You can convert a text email body to an HTML email body. \\\n",
    "You are given a text email body which might have some markdown \\\n",
    "and you need to convert it to an HTML email body with simple, clear, compelling layout and design.\"\n",
    "\n",
    "subject_writer = Agent(name=\"Email subject writer\", instructions=subject_instructions, model=\"gpt-4o-mini\")\n",
    "subject_tool = subject_writer.as_tool(tool_name=\"subject_writer\", tool_description=\"Write a subject for a cold sales email\")\n",
    "\n",
    "html_converter = Agent(name=\"HTML email body converter\", instructions=html_instructions, model=\"gpt-4o-mini\")\n",
    "html_tool = html_converter.as_tool(tool_name=\"html_converter\",tool_description=\"Convert a text email body to an HTML email body\")\n"
   ]
  },
  {
   "cell_type": "code",
   "execution_count": 10,
   "metadata": {},
   "outputs": [],
   "source": [
    "@function_tool\n",
    "def send_html_email(subject: str, html_body: str, ics_data: str) -> Dict[str, str]:\n",
    "    \"\"\" Send out an email with the given subject and HTML body to all sales prospects \"\"\"\n",
    "    sg = sendgrid.SendGridAPIClient(api_key=os.environ.get('SENDGRID_API_KEY'))\n",
    "    from_email = Email(\"harishjmhss@gmail.com\")  # Change to your verified sender\n",
    "    to_email = To(\"harishneyveli96@gmail.com\")  # Change to your recipient\n",
    "    content = Content(\"text/html\", html_body)\n",
    "\n",
    "    # Create attachment\n",
    "    encoded_ics_data = base64.b64encode(ics_data.encode()).decode()\n",
    "    attached_file = Attachment()\n",
    "    attached_file.file_content = FileContent(encoded_ics_data)\n",
    "    attached_file.file_type = FileType(\"text/calendar\")\n",
    "    attached_file.file_name = FileName(\"meeting.ics\")\n",
    "    attached_file.disposition = Disposition(\"attachment\")\n",
    "\n",
    "    # Create mail\n",
    "    mail = Mail(from_email, to_email, subject, content)\n",
    "    mail.add_attachment(attached_file)\n",
    "    response = sg.client.mail.send.post(request_body=mail.get())\n",
    "\n",
    "    return {\"status\": \"success\"}"
   ]
  },
  {
   "cell_type": "code",
   "execution_count": 12,
   "metadata": {},
   "outputs": [
    {
     "data": {
      "text/plain": [
       "[FunctionTool(name='subject_writer', description='Write a subject for a cold sales email', params_json_schema={'properties': {'input': {'title': 'Input', 'type': 'string'}}, 'required': ['input'], 'title': 'subject_writer_args', 'type': 'object', 'additionalProperties': False}, on_invoke_tool=<function function_tool.<locals>._create_function_tool.<locals>._on_invoke_tool at 0x7f7a37cfaa20>, strict_json_schema=True, is_enabled=True),\n",
       " FunctionTool(name='html_converter', description='Convert a text email body to an HTML email body', params_json_schema={'properties': {'input': {'title': 'Input', 'type': 'string'}}, 'required': ['input'], 'title': 'html_converter_args', 'type': 'object', 'additionalProperties': False}, on_invoke_tool=<function function_tool.<locals>._create_function_tool.<locals>._on_invoke_tool at 0x7f7a37cfade0>, strict_json_schema=True, is_enabled=True),\n",
       " FunctionTool(name='send_html_email', description='Send out an email with the given subject and HTML body to all sales prospects', params_json_schema={'properties': {'subject': {'title': 'Subject', 'type': 'string'}, 'html_body': {'title': 'Html Body', 'type': 'string'}, 'ics_data': {'title': 'Ics Data', 'type': 'string'}}, 'required': ['subject', 'html_body', 'ics_data'], 'title': 'send_html_email_args', 'type': 'object', 'additionalProperties': False}, on_invoke_tool=<function function_tool.<locals>._create_function_tool.<locals>._on_invoke_tool at 0x7f7a49f732e0>, strict_json_schema=True, is_enabled=True)]"
      ]
     },
     "execution_count": 12,
     "metadata": {},
     "output_type": "execute_result"
    }
   ],
   "source": [
    "emailer_agent_tools = [subject_tool, html_tool, send_html_email]\n",
    "emailer_agent_tools"
   ]
  },
  {
   "cell_type": "code",
   "execution_count": 13,
   "metadata": {},
   "outputs": [],
   "source": [
    "instructions =\"\"\"You are an email formatter and sender. You receive the body of an email to be sent. \\\n",
    "You first use the subject_writer tool to write a subject for the email, then use the html_converter tool to convert the body to HTML. \\\n",
    "Finally, you use the \"send_html_email\" tool to send the email with the subject and HTML body.( you're often missing this tep, please make sure, email is sent using \"send_html_email\" tool)\n",
    "Dont ask if you need to send the email, just send it.\n",
    "Also attach the calender appointment as a downloadable ics file.\n",
    "\"\"\"\n",
    "\n",
    "emailer_agent = Agent(\n",
    "    name=\"Email Manager\",\n",
    "    instructions=instructions,\n",
    "    tools=emailer_agent_tools,\n",
    "    model=\"gpt-4o-mini\",\n",
    "    handoff_description=\"Convert an email to HTML and send it\")\n"
   ]
  },
  {
   "cell_type": "code",
   "execution_count": 14,
   "metadata": {},
   "outputs": [],
   "source": [
    "travel_planner_agent_tools = [\n",
    "    activity_planner_tool,\n",
    "    attractions_planner_tool,\n",
    "    restaurant_planner_tool,\n",
    "    calender_generator_tool\n",
    "]\n"
   ]
  },
  {
   "cell_type": "code",
   "execution_count": 15,
   "metadata": {},
   "outputs": [],
   "source": [
    "travel_planner_agent_instructions = \"\"\"\n",
    "    You are a travel planner. You are given a particular destination and number of days to spend. \n",
    "    You need to use the tools given to you to plan the trip.\n",
    "    You need to use the tools in a way that is most efficient and effective.\n",
    "    Send your output to the emailer_agent.\n",
    "\"\"\"\n",
    "\n",
    "travel_planner_agent = Agent(\n",
    "    name=\"travel_planner_agent\",\n",
    "    instructions = travel_planner_agent_instructions,\n",
    "    tools = travel_planner_agent_tools,\n",
    "    handoffs = [emailer_agent],\n",
    "    model = \"gpt-4o-mini\"\n",
    ")\n",
    "\n"
   ]
  },
  {
   "cell_type": "code",
   "execution_count": 16,
   "metadata": {},
   "outputs": [],
   "source": [
    "message = \"New York, 5 days\"\n",
    "\n",
    "with trace(\"Trip Planner\"):\n",
    "    result = await Runner.run(travel_planner_agent, message)"
   ]
  }
 ],
 "metadata": {
  "kernelspec": {
   "display_name": ".venv",
   "language": "python",
   "name": "python3"
  },
  "language_info": {
   "codemirror_mode": {
    "name": "ipython",
    "version": 3
   },
   "file_extension": ".py",
   "mimetype": "text/x-python",
   "name": "python",
   "nbconvert_exporter": "python",
   "pygments_lexer": "ipython3",
   "version": "3.12.11"
  }
 },
 "nbformat": 4,
 "nbformat_minor": 2
}
